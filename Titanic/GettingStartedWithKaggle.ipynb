{
 "metadata": {
  "name": ""
 },
 "nbformat": 3,
 "nbformat_minor": 0,
 "worksheets": [
  {
   "cells": [
    {
     "cell_type": "raw",
     "metadata": {},
     "source": [
      "Getting started with Kaggle. Titanic problem tutorial from www.dataquest.io."
     ]
    },
    {
     "cell_type": "code",
     "collapsed": false,
     "input": [
      "import pandas\n",
      "\n",
      "# Read csv file and create a pandas dataframe\n",
      "titanic = pandas.read_csv(\"train.csv\")"
     ],
     "language": "python",
     "metadata": {},
     "outputs": [],
     "prompt_number": 122
    },
    {
     "cell_type": "code",
     "collapsed": false,
     "input": [
      "# Print the first 5 rows of the dataframe\n",
      "print(titanic.head(5))\n",
      "\n",
      "# Describe the dataset using describe() method\n",
      "print(titanic.describe())"
     ],
     "language": "python",
     "metadata": {},
     "outputs": [
      {
       "output_type": "stream",
       "stream": "stdout",
       "text": [
        "   PassengerId  Survived  Pclass  \\\n",
        "0            1         0       3   \n",
        "1            2         1       1   \n",
        "2            3         1       3   \n",
        "3            4         1       1   \n",
        "4            5         0       3   \n",
        "\n",
        "                                                Name     Sex  Age  SibSp  \\\n",
        "0                            Braund, Mr. Owen Harris    male   22      1   \n",
        "1  Cumings, Mrs. John Bradley (Florence Briggs Th...  female   38      1   \n",
        "2                             Heikkinen, Miss. Laina  female   26      0   \n",
        "3       Futrelle, Mrs. Jacques Heath (Lily May Peel)  female   35      1   \n",
        "4                           Allen, Mr. William Henry    male   35      0   \n",
        "\n",
        "   Parch            Ticket     Fare Cabin Embarked  \n",
        "0      0         A/5 21171   7.2500   NaN        S  \n",
        "1      0          PC 17599  71.2833   C85        C  \n",
        "2      0  STON/O2. 3101282   7.9250   NaN        S  \n",
        "3      0            113803  53.1000  C123        S  \n",
        "4      0            373450   8.0500   NaN        S  \n",
        "\n",
        "[5 rows x 12 columns]\n",
        "       PassengerId    Survived      Pclass         Age       SibSp  \\\n",
        "count   891.000000  891.000000  891.000000  714.000000  891.000000   \n",
        "mean    446.000000    0.383838    2.308642   29.699118    0.523008   \n",
        "std     257.353842    0.486592    0.836071   14.526497    1.102743   \n",
        "min       1.000000    0.000000    1.000000    0.420000    0.000000   \n",
        "25%     223.500000    0.000000    2.000000   20.125000    0.000000   \n",
        "50%     446.000000    0.000000    3.000000   28.000000    0.000000   \n",
        "75%     668.500000    1.000000    3.000000   38.000000    1.000000   \n",
        "max     891.000000    1.000000    3.000000   80.000000    8.000000   \n",
        "\n",
        "            Parch        Fare  \n",
        "count  891.000000  891.000000  \n",
        "mean     0.381594   32.204208  \n",
        "std      0.806057   49.693429  \n",
        "min      0.000000    0.000000  \n",
        "25%      0.000000    7.910400  \n",
        "50%      0.000000   14.454200  \n",
        "75%      0.000000   31.000000  \n",
        "max      6.000000  512.329200  \n",
        "\n",
        "[8 rows x 7 columns]\n"
       ]
      }
     ],
     "prompt_number": 123
    },
    {
     "cell_type": "code",
     "collapsed": false,
     "input": [
      "# Fill missing values in Age column with the median age value\n",
      "titanic[\"Age\"] = titanic[\"Age\"].fillna(titanic[\"Age\"].median())"
     ],
     "language": "python",
     "metadata": {},
     "outputs": [],
     "prompt_number": 124
    },
    {
     "cell_type": "code",
     "collapsed": false,
     "input": [
      "# Confirm age column now has 891 entries\n",
      "print(titanic.describe())"
     ],
     "language": "python",
     "metadata": {},
     "outputs": [
      {
       "output_type": "stream",
       "stream": "stdout",
       "text": [
        "       PassengerId    Survived      Pclass         Age       SibSp  \\\n",
        "count   891.000000  891.000000  891.000000  891.000000  891.000000   \n",
        "mean    446.000000    0.383838    2.308642   29.361582    0.523008   \n",
        "std     257.353842    0.486592    0.836071   13.019697    1.102743   \n",
        "min       1.000000    0.000000    1.000000    0.420000    0.000000   \n",
        "25%     223.500000    0.000000    2.000000   22.000000    0.000000   \n",
        "50%     446.000000    0.000000    3.000000   28.000000    0.000000   \n",
        "75%     668.500000    1.000000    3.000000   35.000000    1.000000   \n",
        "max     891.000000    1.000000    3.000000   80.000000    8.000000   \n",
        "\n",
        "            Parch        Fare  \n",
        "count  891.000000  891.000000  \n",
        "mean     0.381594   32.204208  \n",
        "std      0.806057   49.693429  \n",
        "min      0.000000    0.000000  \n",
        "25%      0.000000    7.910400  \n",
        "50%      0.000000   14.454200  \n",
        "75%      0.000000   31.000000  \n",
        "max      6.000000  512.329200  \n",
        "\n",
        "[8 rows x 7 columns]\n"
       ]
      }
     ],
     "prompt_number": 125
    },
    {
     "cell_type": "code",
     "collapsed": false,
     "input": [
      "# Find all the unique genders\n",
      "print(titanic[\"Sex\"].unique())"
     ],
     "language": "python",
     "metadata": {},
     "outputs": [
      {
       "output_type": "stream",
       "stream": "stdout",
       "text": [
        "['male' 'female']\n"
       ]
      }
     ],
     "prompt_number": 126
    },
    {
     "cell_type": "code",
     "collapsed": false,
     "input": [
      "# Locate the male values in the Sex column and replace them with zeroes\n",
      "titanic.loc[titanic[\"Sex\"] == \"male\", \"Sex\"] = 0"
     ],
     "language": "python",
     "metadata": {},
     "outputs": [],
     "prompt_number": 127
    },
    {
     "cell_type": "code",
     "collapsed": false,
     "input": [
      "# Locate all the females values in the Sex column and replace them with ones\n",
      "titanic.loc[titanic[\"Sex\"] == \"female\", \"Sex\"] = 1"
     ],
     "language": "python",
     "metadata": {},
     "outputs": [],
     "prompt_number": 128
    },
    {
     "cell_type": "code",
     "collapsed": false,
     "input": [
      "# Find all the unique embarkation port values\n",
      "print(titanic[\"Embarked\"].unique())"
     ],
     "language": "python",
     "metadata": {},
     "outputs": [
      {
       "output_type": "stream",
       "stream": "stdout",
       "text": [
        "['S' 'C' 'Q' nan]\n"
       ]
      }
     ],
     "prompt_number": 129
    },
    {
     "cell_type": "code",
     "collapsed": false,
     "input": [
      "# The most common embarkation post is S, so let's fill missing values with the value \"S\"\n",
      "titanic[\"Embarked\"] = titanic[\"Embarked\"].fillna('S')"
     ],
     "language": "python",
     "metadata": {},
     "outputs": [],
     "prompt_number": 130
    },
    {
     "cell_type": "code",
     "collapsed": false,
     "input": [
      "# Replace embarkation port S, C, Q by 0, 1, 2\n",
      "titanic.loc[titanic[\"Embarked\"] == 'S', \"Embarked\"] = 0\n",
      "titanic.loc[titanic[\"Embarked\"] == 'C', \"Embarked\"] = 1\n",
      "titanic.loc[titanic[\"Embarked\"] == 'Q', \"Embarked\"] = 2"
     ],
     "language": "python",
     "metadata": {},
     "outputs": [],
     "prompt_number": 131
    },
    {
     "cell_type": "code",
     "collapsed": false,
     "input": [
      "# Execute a linear regression to predict the outcomes\n",
      "from sklearn.linear_model import LinearRegression\n",
      "from sklearn.cross_validation import KFold\n",
      "\n",
      "# Columns to predict the target\n",
      "predictors = [\"Pclass\", \"Sex\", \"Age\", \"SibSp\", \"Parch\", \"Fare\", \"Embarked\"]\n",
      "\n",
      "# Initialize algorithm class\n",
      "alg = LinearRegression()\n",
      "\n",
      "# Generate cross validation\n",
      "kf = KFold(titanic.shape[0], n_folds=3, random_state=1)\n",
      "\n",
      "predictions = []\n",
      "\n",
      "for train, test in kf:\n",
      "    # The predictors to train the algorithm\n",
      "    train_predictors = (titanic[predictors].iloc[train,:])\n",
      "    # The target to train the algorithm\n",
      "    train_target = titanic[\"Survived\"].iloc[train]\n",
      "    # Training the algorithm\n",
      "    alg.fit(train_predictors, train_target)\n",
      "    # Make predictions on the test fold\n",
      "    test_predictions = alg.predict(titanic[predictors].iloc[test,:])\n",
      "    predictions.append(test_predictions)"
     ],
     "language": "python",
     "metadata": {},
     "outputs": [],
     "prompt_number": 132
    },
    {
     "cell_type": "code",
     "collapsed": false,
     "input": [
      "# Evaluating error\n",
      "import numpy as np\n",
      "\n",
      "# Concatenate predictions into one array\n",
      "predictions = np.concatenate(predictions, axis=0)\n",
      "\n",
      "# Map predictions to outcomes\n",
      "predictions[predictions > .5] = 1\n",
      "predictions[predictions <= .5] = 0\n",
      "\n",
      "accuracy = 1 - sum(abs(predictions - titanic[\"Survived\"])) / len(predictions)"
     ],
     "language": "python",
     "metadata": {},
     "outputs": [],
     "prompt_number": 133
    },
    {
     "cell_type": "code",
     "collapsed": false,
     "input": [
      "# Logistic regression to map predictions to a value between 0 and 1\n",
      "from sklearn.linear_model import LogisticRegression\n",
      "from sklearn import cross_validation\n",
      "\n",
      "# Initialize the algorithm\n",
      "alg = LogisticRegression(random_state=1)\n",
      "\n",
      "# Compute the accuracy for all the cross validation folds\n",
      "scores = cross_validation.cross_val_score(alg, titanic[predictors],\n",
      "                                          titanic[\"Survived\"], cv=3)\n",
      "\n",
      "print(scores.mean())"
     ],
     "language": "python",
     "metadata": {},
     "outputs": [
      {
       "output_type": "stream",
       "stream": "stdout",
       "text": [
        "0.787878787879\n"
       ]
      }
     ],
     "prompt_number": 134
    },
    {
     "cell_type": "code",
     "collapsed": false,
     "input": [
      "# Processing the test set\n",
      "titanic_test = pandas.read_csv(\"test.csv\")\n",
      "titanic_test[\"Age\"] = titanic_test[\"Age\"].fillna(titanic_test[\"Age\"].median())\n",
      "titanic_test[\"Fare\"] = titanic_test[\"Fare\"].fillna(titanic_test[\"Fare\"].median())\n",
      "titanic_test.loc[titanic_test[\"Sex\"] == \"male\", \"Sex\"] = 0\n",
      "titanic_test.loc[titanic_test[\"Sex\"] == \"female\", \"Sex\"] = 1\n",
      "titanic_test.loc[titanic_test[\"Embarked\"] == 'S', \"Embarked\"] = 'S'\n",
      "titanic_test.loc[titanic_test[\"Embarked\"] == 'S', \"Embarked\"] = 0\n",
      "titanic_test.loc[titanic_test[\"Embarked\"] == 'C', \"Embarked\"] = 1\n",
      "titanic_test.loc[titanic_test[\"Embarked\"] == 'Q', \"Embarked\"] = 2"
     ],
     "language": "python",
     "metadata": {},
     "outputs": [],
     "prompt_number": 145
    },
    {
     "cell_type": "code",
     "collapsed": false,
     "input": [
      "# Generating a submission file\n",
      "\n",
      "# Initialize the algorithm\n",
      "alg = LogisticRegression(random_state=1)\n",
      "\n",
      "# Train the algorithm \n",
      "alg.fit(titanic[predictors], titanic[\"Survived\"])\n",
      "\n",
      "# Make predictions using the test set\n",
      "predictions = alg.predict(titanic_test[predictors])\n",
      "\n",
      "# Create a new dataframe for submission\n",
      "submission = pandas.DataFrame({\n",
      "            \"PassengerId\": titanic_test[\"PassengerId\"],\n",
      "            \"Survived\": predictions\n",
      "             })\n",
      "\n",
      "submission.to_csv(\"submission.csv\", index=False)"
     ],
     "language": "python",
     "metadata": {},
     "outputs": [],
     "prompt_number": 151
    },
    {
     "cell_type": "code",
     "collapsed": false,
     "input": [
      "# Random forest algorithm to improve accuracy\n",
      "from sklearn.ensemble import RandomForestClassifier\n",
      "\n",
      "# Initialize a random forest algorithm\n",
      "# n_estimators is the number of trees we want to make\n",
      "# min_samples_split is the minimum number of rows we need to make a split\n",
      "# min_samples_leaf is the minimum number of samples we can have at the place where a tree branch ends (the bottom points of the tree)\n",
      "\n",
      "alg = RandomForestClassifier(random_state=1, n_estimators=20, \n",
      "                             min_samples_split=2, min_samples_leaf=1)\n",
      "\n",
      "# Compute the accuracy\n",
      "scores = cross_validation.cross_val_score(alg, titanic[predictors],\n",
      "                                          titanic[\"Survived\"], cv=3)\n",
      "\n",
      "print(scores.mean())"
     ],
     "language": "python",
     "metadata": {},
     "outputs": [
      {
       "output_type": "stream",
       "stream": "stdout",
       "text": [
        "0.795735129068\n"
       ]
      }
     ],
     "prompt_number": 153
    },
    {
     "cell_type": "code",
     "collapsed": false,
     "input": [
      "# Increase number of trees, splits and leaves\n",
      "alg = RandomForestClassifier(random_state=1, n_estimators=150,\n",
      "                             min_samples_split=4, min_samples_leaf=2)\n",
      "\n",
      "# Compute the accuracy\n",
      "scores = cross_validation.cross_val_score(alg, titanic[predictors],\n",
      "                                          titanic[\"Survived\"], cv=3)\n",
      "\n",
      "print(scores.mean())"
     ],
     "language": "python",
     "metadata": {},
     "outputs": [
      {
       "output_type": "stream",
       "stream": "stdout",
       "text": [
        "0.820426487093\n"
       ]
      }
     ],
     "prompt_number": 156
    },
    {
     "cell_type": "code",
     "collapsed": false,
     "input": [
      "# Generating new features\n",
      "\n",
      "# Generating a familysize column\n",
      "titanic[\"FamilySize\"] = titanic[\"SibSp\"] + titanic[\"Parch\"]\n",
      "\n",
      "# Generating a name length column\n",
      "titanic[\"NameLength\"] = titanic[\"Name\"].apply(lambda x: len(x))"
     ],
     "language": "python",
     "metadata": {},
     "outputs": [],
     "prompt_number": 162
    },
    {
     "cell_type": "code",
     "collapsed": false,
     "input": [
      "# Generating a feature using the title (Mr, Mrs, Miss, Master, etc)\n",
      "import re\n",
      "\n",
      "# A function to get the title from a name\n",
      "def get_title(name):\n",
      "    # Use a regular expression \n",
      "    title_search = re.search(\"([A-Za-z]+)\\.\", name)\n",
      "    \n",
      "    if title_search:\n",
      "        return title_search.group(1)\n",
      "    return \"\"\n",
      "\n",
      "# Get all the titles and print how often each one occurs\n",
      "titles = titanic[\"Name\"].apply(get_title)\n",
      "print(pandas.value_counts(titles))\n",
      "\n",
      "# Map each title to an integer.\n",
      "title_mapping = {\"Mr\": 1, \"Miss\": 2, \"Mrs\": 3, \"Master\": 4, \"Dr\": 5,\n",
      "                 \"Rev\": 6, \"Major\": 7, \"Col\": 7, \"Mlle\": 8, \"Mme\": 8,\n",
      "                 \"Don\": 9, \"Lady\": 10, \"Countess\": 10, \"Jonkheer\": 10,\n",
      "                 \"Sir\": 9, \"Capt\": 7, \"Ms\": 2}\n",
      "\n",
      "for k,v in title_mapping.items():\n",
      "    titles[titles == k] = v\n",
      "    \n",
      "# Verify that everything was converted correctly\n",
      "print(pandas.value_counts(titles))\n",
      "\n",
      "titanic[\"Title\"] = titles"
     ],
     "language": "python",
     "metadata": {},
     "outputs": [
      {
       "output_type": "stream",
       "stream": "stdout",
       "text": [
        "Mr          517\n",
        "Miss        182\n",
        "Mrs         125\n",
        "Master       40\n",
        "Dr            7\n",
        "Rev           6\n",
        "Major         2\n",
        "Mlle          2\n",
        "Col           2\n",
        "Capt          1\n",
        "Countess      1\n",
        "Sir           1\n",
        "Jonkheer      1\n",
        "Mme           1\n",
        "Ms            1\n",
        "Lady          1\n",
        "Don           1\n",
        "dtype: int64\n",
        "1     517\n",
        "2     183\n",
        "3     125\n",
        "4      40\n",
        "5       7\n",
        "6       6\n",
        "7       5\n",
        "10      3\n",
        "8       3\n",
        "9       2\n",
        "dtype: int64\n"
       ]
      }
     ],
     "prompt_number": 183
    },
    {
     "cell_type": "code",
     "collapsed": false,
     "input": [
      "# Generating a feature using family groups\n",
      "import operator\n",
      "\n",
      "# A dictionary mapping family name to id\n",
      "family_id_mapping = {}\n",
      "\n",
      "# A function to get the id given a row\n",
      "def get_family_id(row):\n",
      "    # Find the last name by splitting on a comma\n",
      "    last_name = row[\"Name\"].split(\",\")[0]\n",
      "    \n",
      "    # Create the family id\n",
      "    family_id = \"{0}{1}\".format(last_name, row[\"FamilySize\"])\n",
      "    \n",
      "    # Look up the id in the mapping\n",
      "    if family_id not in family_id_mapping:\n",
      "        if len(family_id_mapping) == 0:\n",
      "            current_id = 1\n",
      "        else:\n",
      "            # Get the maximum id and add one to it\n",
      "            current_id = (max(family_id_mapping.items(), \n",
      "                             key=operator.itemgetter(1))[1] + 1)\n",
      "        family_id_mapping[family_id] = current_id\n",
      "    \n",
      "    return family_id_mapping[family_id]\n",
      "\n",
      "# Get the family ids with the apply method\n",
      "family_ids = titanic.apply(get_family_id, axis=1)\n",
      "\n",
      "# There are a lot of family ids, so we will compress all of the families under 3 members into one code\n",
      "family_ids[titanic[\"FamilySize\"] < 3] = -1\n",
      "\n",
      "print(pandas.value_counts(family_ids))\n",
      "\n",
      "titanic[\"FamilyId\"] = family_ids"
     ],
     "language": "python",
     "metadata": {},
     "outputs": [
      {
       "output_type": "stream",
       "stream": "stdout",
       "text": [
        "-1      800\n",
        " 14       8\n",
        " 149      7\n",
        " 63       6\n",
        " 50       6\n",
        " 59       6\n",
        " 17       5\n",
        " 384      4\n",
        " 27       4\n",
        " 25       4\n",
        " 162      4\n",
        " 8        4\n",
        " 84       4\n",
        " 340      4\n",
        " 43       3\n",
        " 269      3\n",
        " 58       3\n",
        " 633      2\n",
        " 167      2\n",
        " 280      2\n",
        " 510      2\n",
        " 90       2\n",
        " 83       1\n",
        " 625      1\n",
        " 376      1\n",
        " 449      1\n",
        " 498      1\n",
        " 588      1\n",
        "dtype: int64\n"
       ]
      }
     ],
     "prompt_number": 184
    },
    {
     "cell_type": "code",
     "collapsed": false,
     "input": [
      "# Finding the best features\n",
      "from sklearn.feature_selection import SelectKBest, f_classif\n",
      "\n",
      "predictors = [\"Pclass\", \"Sex\", \"Age\", \"SibSp\", \"Parch\", \"Fare\", \n",
      "              \"Embarked\", \"FamilySize\", \"Title\", \"FamilyId\"]\n",
      "\n",
      "# Perform feature selection\n",
      "selector = SelectKBest(f_classif, k=5)\n",
      "selector.fit(titanic[predictors], titanic[\"Survived\"])\n",
      "\n",
      "# Get the raw p-values for each feature and transform into scores\n",
      "scores = -np.log10(selector.pvalues_)\n",
      "\n",
      "# Plot the scores\n",
      "import matplotlib.pyplot as plt\n",
      "plt.bar(range(len(predictors)), scores)\n",
      "plt.xticks(range(len(predictors)), predictors, rotation=\"vertical\")\n",
      "#plt.show()\n",
      "\n",
      "# Pick only the four best features\n",
      "predictors = [\"Pclass\", \"Sex\", \"Fare\", \"Title\"]\n",
      "\n",
      "alg = RandomForestClassifier(random_state=1, n_estimators=150,\n",
      "                             min_samples_split=8,\n",
      "                             min_samples_leaf=4)\n",
      "\n",
      "scores = cross_validation.cross_val_score(alg, titanic[predictors],\n",
      "                                          titanic[\"Survived\"], cv=3)\n",
      "\n",
      "print(scores.mean())"
     ],
     "language": "python",
     "metadata": {},
     "outputs": [
      {
       "output_type": "stream",
       "stream": "stdout",
       "text": [
        "0.811447811448\n"
       ]
      }
     ],
     "prompt_number": 198
    },
    {
     "cell_type": "code",
     "collapsed": false,
     "input": [
      "# Ensembling\n",
      "from sklearn.ensemble import GradientBoostingClassifier\n",
      "\n",
      "# The algorithms we want to ensemble\n",
      "algorithms = [\n",
      "              [GradientBoostingClassifier(random_state=1, n_estimators=25, max_depth=3),\n",
      "              [\"Pclass\", \"Sex\", \"Age\", \"Fare\", \"Embarked\", \"FamilySize\", \"Title\", \"FamilyId\"]],\n",
      "              [LogisticRegression(random_state=1), \n",
      "               [\"Pclass\", \"Sex\", \"Fare\", \"FamilySize\", \"Title\", \"Age\", \"Embarked\"]]\n",
      "              ]\n",
      "\n",
      "# Initialize the cross validation folds\n",
      "kf = KFold(titanic.shape[0], n_folds=3, random_state=1)\n",
      "\n",
      "predictions = []\n",
      "for train, test in kf:\n",
      "    train_target = titanic[\"Survived\"].iloc[train]\n",
      "    full_test_predictions = []\n",
      "    # Make predictions for each algorithm on each fold\n",
      "    for alg, predictors in algorithms:\n",
      "        # Fit thw algorithm on the training data\n",
      "        alg.fit(titanic[predictors].iloc[train,:], train_target)\n",
      "        # Select and predict on the test fold\n",
      "        test_predictions = alg.predict_proba(titanic[predictors].iloc[test,:].astype(float))[:,1]\n",
      "        full_test_predictions.append(test_predictions)\n",
      "        \n",
      "    # Use a simple ensembling scheme - average the predictions\n",
      "    test_predictions = (full_test_predictions[0] + full_test_predictions[1]) / 2\n",
      "    \n",
      "    # Any value over .5 is assumed to be a 1 prediction, and below .5 is a 0\n",
      "    test_predictions[test_predictions <= .5] = 0\n",
      "    test_predictions[test_predictions > .5] = 1\n",
      "    predictions.append(test_predictions)\n",
      "    \n",
      "# Put all the predictions together into one array\n",
      "predictions = np.concatenate(predictions, axis=0)\n",
      "\n",
      "# Compute accuracy by comparing to the training data\n",
      "accuracy = 1 - sum(abs(predictions - titanic[\"Survived\"])) / len(predictions)\n",
      "\n",
      "print(accuracy)"
     ],
     "language": "python",
     "metadata": {},
     "outputs": [
      {
       "output_type": "stream",
       "stream": "stdout",
       "text": [
        "0.819304152637\n"
       ]
      }
     ],
     "prompt_number": 206
    },
    {
     "cell_type": "code",
     "collapsed": false,
     "input": [],
     "language": "python",
     "metadata": {},
     "outputs": []
    }
   ],
   "metadata": {}
  }
 ]
}